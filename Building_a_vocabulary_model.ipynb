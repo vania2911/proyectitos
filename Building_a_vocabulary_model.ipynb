{
  "nbformat": 4,
  "nbformat_minor": 0,
  "metadata": {
    "colab": {
      "provenance": [],
      "toc_visible": true,
      "authorship_tag": "ABX9TyOjM1E6Kpu5cJC+8rjHs2fg",
      "include_colab_link": true
    },
    "kernelspec": {
      "name": "python3",
      "display_name": "Python 3"
    },
    "language_info": {
      "name": "python"
    }
  },
  "cells": [
    {
      "cell_type": "markdown",
      "metadata": {
        "id": "view-in-github",
        "colab_type": "text"
      },
      "source": [
        "<a href=\"https://colab.research.google.com/github/vania2911/proyectitos/blob/main/Building_a_vocabulary_model.ipynb\" target=\"_parent\"><img src=\"https://colab.research.google.com/assets/colab-badge.svg\" alt=\"Open In Colab\"/></a>"
      ]
    },
    {
      "cell_type": "code",
      "execution_count": 5,
      "metadata": {
        "id": "aKt8PSn99I9z"
      },
      "outputs": [],
      "source": [
        "import re #regular expressions\n",
        "from collections import Counter\n",
        "import matplotlib.pyplot as plt"
      ]
    },
    {
      "cell_type": "code",
      "source": [
        "# the tiny corpus of text ! \n",
        "text = 'red pink pink blue blue yellow ORANGE BLUE BLUE PINK' # 🌈\n",
        "print(text)\n",
        "print('string length : ',len(text))"
      ],
      "metadata": {
        "colab": {
          "base_uri": "https://localhost:8080/"
        },
        "id": "d3gdZE8O91gu",
        "outputId": "52fc271a-4b99-4f61-de84-f6b04924c749"
      },
      "execution_count": 1,
      "outputs": [
        {
          "output_type": "stream",
          "name": "stdout",
          "text": [
            "red pink pink blue blue yellow ORANGE BLUE BLUE PINK\n",
            "string length :  52\n"
          ]
        }
      ]
    },
    {
      "cell_type": "markdown",
      "source": [
        "Preprocessing"
      ],
      "metadata": {
        "id": "E_ZHlbdg-BBS"
      }
    },
    {
      "cell_type": "code",
      "source": [
        "#convert letters to lowercase\n",
        "text_lowercase=text.lower()\n",
        "print(text_lowercase)\n",
        "print('string length :', len(text_lowercase))"
      ],
      "metadata": {
        "colab": {
          "base_uri": "https://localhost:8080/"
        },
        "id": "plYKJPHg-FmD",
        "outputId": "ce847b25-fe25-4a16-d38a-90c20fc153e5"
      },
      "execution_count": 2,
      "outputs": [
        {
          "output_type": "stream",
          "name": "stdout",
          "text": [
            "red pink pink blue blue yellow orange blue blue pink\n",
            "string length : 52\n"
          ]
        }
      ]
    },
    {
      "cell_type": "code",
      "source": [
        "#preprocessing\n",
        "words=re.findall(r'\\w+', text_lowercase)\n",
        "print(words)\n",
        "print('count: ', len(words))"
      ],
      "metadata": {
        "colab": {
          "base_uri": "https://localhost:8080/"
        },
        "id": "3XqAqVNT-brJ",
        "outputId": "9d9d2ac4-fd60-43bf-f60a-308cfdb6acb7"
      },
      "execution_count": 6,
      "outputs": [
        {
          "output_type": "stream",
          "name": "stdout",
          "text": [
            "['red', 'pink', 'pink', 'blue', 'blue', 'yellow', 'orange', 'blue', 'blue', 'pink']\n",
            "count:  10\n"
          ]
        }
      ]
    },
    {
      "cell_type": "markdown",
      "source": [
        "Create vocabulary"
      ],
      "metadata": {
        "id": "umgHrwpi_WSI"
      }
    },
    {
      "cell_type": "code",
      "source": [
        "#create vocab\n",
        "vocab=set(words)\n",
        "print(vocab)\n",
        "print('count: ', len(vocab))"
      ],
      "metadata": {
        "colab": {
          "base_uri": "https://localhost:8080/"
        },
        "id": "NbAcfU1f_ano",
        "outputId": "65376112-9fe6-4636-f3e6-37a4db5c4aed"
      },
      "execution_count": 7,
      "outputs": [
        {
          "output_type": "stream",
          "name": "stdout",
          "text": [
            "{'orange', 'yellow', 'red', 'blue', 'pink'}\n",
            "count:  5\n"
          ]
        }
      ]
    },
    {
      "cell_type": "markdown",
      "source": [
        "Add information with word counts"
      ],
      "metadata": {
        "id": "9Vgw6T2Y__xb"
      }
    },
    {
      "cell_type": "code",
      "source": [
        "counts_a=dict()\n",
        "for w in words:\n",
        "  counts_a[w]=counts_a.get(w,0)+1\n",
        "print(counts_a)\n",
        "print('counts: ', len(counts_a))"
      ],
      "metadata": {
        "colab": {
          "base_uri": "https://localhost:8080/"
        },
        "id": "T-tKkFyQAG0J",
        "outputId": "b83e3337-bf09-4f11-be6d-60d6ce131a19"
      },
      "execution_count": 8,
      "outputs": [
        {
          "output_type": "stream",
          "name": "stdout",
          "text": [
            "{'red': 1, 'pink': 3, 'blue': 4, 'yellow': 1, 'orange': 1}\n",
            "counts:  5\n"
          ]
        }
      ]
    },
    {
      "cell_type": "code",
      "source": [
        "# create vocab including word count using collections.Counter\n",
        "counts_b = dict()\n",
        "counts_b = Counter(words)\n",
        "print(counts_b)\n",
        "print('count : ',len(counts_b))"
      ],
      "metadata": {
        "colab": {
          "base_uri": "https://localhost:8080/"
        },
        "id": "JvGgaH2GCJhI",
        "outputId": "cf93fb98-98c2-4d7a-ce9c-ffac18c26346"
      },
      "execution_count": 9,
      "outputs": [
        {
          "output_type": "stream",
          "name": "stdout",
          "text": [
            "Counter({'blue': 4, 'pink': 3, 'red': 1, 'yellow': 1, 'orange': 1})\n",
            "count :  5\n"
          ]
        }
      ]
    },
    {
      "cell_type": "code",
      "source": [
        "#barchar of word counts\n",
        "d={'blue':counts_b['blue'],'pink':counts_b['pink'],'red':counts_b['red'],'yellow':counts_b['yellow'],'orange':counts_b['orange']}\n",
        "plt.bar(range(len(d)), list(d.values()), align='center', color=d.keys())\n",
        "_ = plt.xticks(range(len(d)), list(d.keys()))"
      ],
      "metadata": {
        "colab": {
          "base_uri": "https://localhost:8080/",
          "height": 265
        },
        "id": "UfWNqwELCWzq",
        "outputId": "43e4a318-2627-45d2-ecf0-da2a1906c599"
      },
      "execution_count": 10,
      "outputs": [
        {
          "output_type": "display_data",
          "data": {
            "text/plain": [
              "<Figure size 432x288 with 1 Axes>"
            ],
            "image/png": "[encoded data removed]"
          },
          "metadata": {
            "needs_background": "light"
          }
        }
      ]
    }
  ]
}